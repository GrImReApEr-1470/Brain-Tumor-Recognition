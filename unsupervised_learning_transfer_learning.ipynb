{
  "nbformat": 4,
  "nbformat_minor": 0,
  "metadata": {
    "colab": {
      "provenance": []
    },
    "kernelspec": {
      "name": "python3",
      "display_name": "Python 3"
    },
    "language_info": {
      "name": "python"
    }
  },
  "cells": [
    {
      "cell_type": "code",
      "execution_count": null,
      "metadata": {
        "id": "lkyqH6gkvR2H"
      },
      "outputs": [],
      "source": [
        "import tensorflow as tf\n",
        "from keras.applications import MobileNetV3Small"
      ]
    },
    {
      "cell_type": "code",
      "execution_count": null,
      "metadata": {
        "id": "ckPrvqEOCmdU"
      },
      "outputs": [],
      "source": [
        "from google.colab import drive\n",
        "drive.mount('/content/drive')"
      ]
    },
    {
      "cell_type": "code",
      "source": [
        "# Set hyperparameters\n",
        "input_shape = (224, 224, 3)\n",
        "num_classes = 4\n",
        "pretrain_epochs = 10\n",
        "fine_tune_epochs = 10\n",
        "batch_size = 32"
      ],
      "metadata": {
        "id": "5FOvynTt2SWE"
      },
      "execution_count": null,
      "outputs": []
    },
    {
      "cell_type": "code",
      "source": [
        "# Load unlabeled brain tumor data\n",
        "unlabeled_data = tf.keras.preprocessing.image_dataset_from_directory(\n",
        "    \"../content/drive/MyDrive/brain_tumor_unsupervised/unsupervised\",\n",
        "    image_size=(input_shape[0], input_shape[1]),\n",
        "    batch_size=batch_size\n",
        ")\n",
        "\n",
        "# Load labeled brain tumor classification data\n",
        "training_data = tf.keras.preprocessing.image_dataset_from_directory(\n",
        "    \"../content/drive/MyDrive/brain_tumor_unsupervised/training\",\n",
        "    image_size=(input_shape[0], input_shape[1]),\n",
        "    batch_size=batch_size\n",
        ")\n",
        "\n",
        "test_data = tf.keras.preprocessing.image_dataset_from_directory(\n",
        "    'path/to/test/data',\n",
        "    image_size=(input_shape[0], input_shape[1]),\n",
        "    batch_size=batch_size\n",
        ")"
      ],
      "metadata": {
        "id": "uDSwT0Q92WcW"
      },
      "execution_count": null,
      "outputs": []
    },
    {
      "cell_type": "markdown",
      "source": [
        "##Unsupervised learning"
      ],
      "metadata": {
        "id": "jo9nANQP3vdb"
      }
    },
    {
      "cell_type": "code",
      "source": [
        "# Define self-supervised learning model\n",
        "pretrain_model = MobileNetV3Small(\n",
        "    input_shape=input_shape,\n",
        "    include_top=False,\n",
        "    weights=None\n",
        ")\n",
        "\n",
        "# Add self-supervised learning head\n",
        "pretrain_model = tf.keras.Sequential([\n",
        "    pretrain_model,\n",
        "    tf.keras.layers.GlobalAveragePooling2D(),\n",
        "    tf.keras.layers.Dense(256, activation='relu'),\n",
        "    tf.keras.layers.Dense(128, activation='relu'),\n",
        "    tf.keras.layers.Dense(64, activation='relu'),\n",
        "    tf.keras.layers.Dense(32, activation='relu'),\n",
        "    tf.keras.layers.Dense(16, activation='relu'),\n",
        "    tf.keras.layers.Dense(8, activation='relu'),\n",
        "    tf.keras.layers.Dense(4, activation='sigmoid')\n",
        "])\n",
        "\n",
        "# Compile self-supervised learning model\n",
        "pretrain_model.compile(\n",
        "    optimizer=tf.keras.optimizers.Adam(),\n",
        "    loss=tf.keras.losses.BinaryCrossentropy(from_logits=True),\n",
        "    metrics=['accuracy']\n",
        ")"
      ],
      "metadata": {
        "id": "TGlSfJfY2bRX"
      },
      "execution_count": null,
      "outputs": []
    },
    {
      "cell_type": "code",
      "source": [
        "# Train self-supervised learning model on unlabeled data\n",
        "pretrain_model.fit(unlabeled_data, epochs=pretrain_epochs)"
      ],
      "metadata": {
        "id": "BFqErGn52twX"
      },
      "execution_count": null,
      "outputs": []
    },
    {
      "cell_type": "markdown",
      "source": [
        "##Supervised learning"
      ],
      "metadata": {
        "id": "JHNdayJ_33Fd"
      }
    },
    {
      "cell_type": "code",
      "source": [
        "# Freeze layers of pre-trained model and add classification head\n",
        "base_model = MobileNetV3Small(\n",
        "    input_shape=input_shape,\n",
        "    include_top=False,\n",
        "    weights=None\n",
        ")\n",
        "for layer in base_model.layers:\n",
        "    layer.trainable = False\n",
        "\n",
        "model = tf.keras.Sequential([\n",
        "    base_model,\n",
        "    tf.keras.layers.GlobalAveragePooling2D(),\n",
        "    tf.keras.layers.Dense(256, activation='relu'),\n",
        "    tf.keras.layers.Dense(128, activation='relu'),\n",
        "    tf.keras.layers.Dense(64, activation='relu'),\n",
        "    tf.keras.layers.Dense(num_classes, activation='softmax')\n",
        "])\n",
        "\n",
        "# Compile fine-tuned model\n",
        "model.compile(\n",
        "    optimizer=tf.keras.optimizers.Adam(),\n",
        "    loss=tf.keras.losses.SparseCategoricalCrossentropy(from_logits=True),\n",
        "    metrics=['accuracy']\n",
        ")"
      ],
      "metadata": {
        "id": "s5SmF1Pl3V0j"
      },
      "execution_count": null,
      "outputs": []
    },
    {
      "cell_type": "code",
      "source": [
        "# Fine-tune model on labeled brain tumor classification data\n",
        "model.fit(training_data, epochs=fine_tune_epochs, test_data = test_data)"
      ],
      "metadata": {
        "id": "gJRv6LeN3YGM"
      },
      "execution_count": null,
      "outputs": []
    },
    {
      "cell_type": "code",
      "source": [
        "# Evaluate model on test data\n",
        "test_loss, test_acc = model.evaluate(test_data)\n",
        "print('Test accuracy:', test_acc)"
      ],
      "metadata": {
        "id": "vJ2_cEAc3pvf"
      },
      "execution_count": null,
      "outputs": []
    }
  ]
}